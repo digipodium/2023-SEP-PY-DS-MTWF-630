{
 "cells": [
  {
   "cell_type": "markdown",
   "metadata": {},
   "source": [
    "- display simple data\n",
    "- formatted display"
   ]
  },
  {
   "cell_type": "code",
   "execution_count": null,
   "metadata": {},
   "outputs": [],
   "source": [
    "name = \"Alexander\"\n",
    "age = 23"
   ]
  },
  {
   "cell_type": "code",
   "execution_count": null,
   "metadata": {},
   "outputs": [],
   "source": [
    "print(name)\n",
    "print(age)"
   ]
  },
  {
   "cell_type": "code",
   "execution_count": null,
   "metadata": {},
   "outputs": [],
   "source": [
    "print(name, age)"
   ]
  },
  {
   "cell_type": "code",
   "execution_count": null,
   "metadata": {},
   "outputs": [],
   "source": [
    "print(\"Your name is\", name)\n",
    "print('you are', age, 'years old')  "
   ]
  },
  {
   "cell_type": "code",
   "execution_count": null,
   "metadata": {},
   "outputs": [],
   "source": [
    "print(\"Amaan\",'Nishant','Ayush','Kratagya')"
   ]
  },
  {
   "cell_type": "code",
   "execution_count": null,
   "metadata": {},
   "outputs": [],
   "source": [
    "print(\"Amaan\\nNishant\\nAyush\\nKratagya\")"
   ]
  },
  {
   "cell_type": "code",
   "execution_count": null,
   "metadata": {},
   "outputs": [],
   "source": [
    "print(\"Amaan\",'Nishant','Ayush','Kratagya', sep=\"\\n\")"
   ]
  },
  {
   "cell_type": "code",
   "execution_count": null,
   "metadata": {},
   "outputs": [],
   "source": [
    "print(\"Amaan\",'Nishant','Ayush','Kratagya', sep=\" aur \")"
   ]
  },
  {
   "cell_type": "code",
   "execution_count": null,
   "metadata": {},
   "outputs": [],
   "source": [
    "print(1, end=\" \")\n",
    "print(2)\n",
    "print(3)"
   ]
  },
  {
   "cell_type": "markdown",
   "metadata": {},
   "source": [
    "f-string = formatted string literals"
   ]
  },
  {
   "cell_type": "code",
   "execution_count": null,
   "metadata": {},
   "outputs": [],
   "source": [
    "x = 5\n",
    "y = 10\n",
    "z = 20\n",
    "\n",
    "print(x,'+', y,'=', x+y)"
   ]
  },
  {
   "cell_type": "code",
   "execution_count": null,
   "metadata": {},
   "outputs": [],
   "source": [
    "print(f'{x} + {y} = {x+y}')"
   ]
  },
  {
   "cell_type": "code",
   "execution_count": null,
   "metadata": {},
   "outputs": [],
   "source": [
    "p1 = \"Natasha\"\n",
    "p2 = \"Mahak\"\n",
    "print(f\"{p1} has {len(p1)} chars\")\n",
    "print(f\"{p2} has {len(p2)} chars\")"
   ]
  },
  {
   "cell_type": "code",
   "execution_count": null,
   "metadata": {},
   "outputs": [],
   "source": [
    "print(f\"{p1} = {len(p1)} chars\")\n",
    "print(f\"{p2} = {len(p2)} chars\")"
   ]
  },
  {
   "cell_type": "code",
   "execution_count": null,
   "metadata": {},
   "outputs": [],
   "source": [
    "p3 = \"Sam\"\n",
    "print(f\"{p1:10} = {len(p1)} chars\")\n",
    "print(f\"{p2:10} = {len(p2)} chars\")\n",
    "print(f\"{p3:10} = {len(p3)} chars\")"
   ]
  },
  {
   "cell_type": "code",
   "execution_count": null,
   "metadata": {},
   "outputs": [],
   "source": [
    "print(f\"{p1:>10} = {len(p1)} chars\")\n",
    "print(f\"{p2:>10} = {len(p2)} chars\")\n",
    "print(f\"{p3:>10} = {len(p3)} chars\")"
   ]
  },
  {
   "cell_type": "code",
   "execution_count": null,
   "metadata": {},
   "outputs": [],
   "source": [
    "print(f\"{p1:^10} = {len(p1)} chars\")\n",
    "print(f\"{p2:^10} = {len(p2)} chars\")\n",
    "print(f\"{p3:^10} = {len(p3)} chars\")"
   ]
  },
  {
   "cell_type": "code",
   "execution_count": null,
   "metadata": {},
   "outputs": [],
   "source": [
    "pi = 22/7\n",
    "print(f'the value of pi is {pi}')\n",
    "print(f'the value of pi is {pi:.1f}')\n",
    "print(f'the value of pi is {pi:.2f}')\n",
    "print(f'the value of pi is {pi:.5f}')\n",
    "print('🏷️🐟🐠') # hold window key and press ."
   ]
  },
  {
   "cell_type": "markdown",
   "metadata": {},
   "source": [
    "input"
   ]
  },
  {
   "cell_type": "code",
   "execution_count": null,
   "metadata": {},
   "outputs": [],
   "source": [
    "city = input(\"Which city do you live in? \")"
   ]
  },
  {
   "cell_type": "code",
   "execution_count": null,
   "metadata": {},
   "outputs": [],
   "source": [
    "print(f\"I live in {city}\")"
   ]
  },
  {
   "cell_type": "markdown",
   "metadata": {},
   "source": [
    "type casting"
   ]
  },
  {
   "cell_type": "code",
   "execution_count": null,
   "metadata": {},
   "outputs": [],
   "source": [
    "a = 10\n",
    "print(type(a))\n",
    "a = bool(a) # convert a to boolean\n",
    "print(a, type(a))\n",
    "a = int(a) # convert a to integer\n",
    "print(a, type(a))"
   ]
  },
  {
   "cell_type": "code",
   "execution_count": null,
   "metadata": {},
   "outputs": [],
   "source": [
    "name = 'rohan'\n",
    "name = bool(name)"
   ]
  },
  {
   "cell_type": "code",
   "execution_count": null,
   "metadata": {},
   "outputs": [],
   "source": [
    "a = \"100001\"\n",
    "print(a, type(a))\n",
    "a = int(a)\n",
    "print(a, type(a))"
   ]
  },
  {
   "cell_type": "code",
   "execution_count": null,
   "metadata": {},
   "outputs": [],
   "source": [
    "pi = int(pi)\n",
    "print(pi, type(pi))\n",
    "pi = float(pi)\n",
    "print(pi, type(pi))"
   ]
  },
  {
   "cell_type": "code",
   "execution_count": 83,
   "metadata": {},
   "outputs": [
    {
     "name": "stdout",
     "output_type": "stream",
     "text": [
      "3.000000000000000\n"
     ]
    }
   ],
   "source": [
    "print(f'{pi:.15f}')"
   ]
  },
  {
   "cell_type": "code",
   "execution_count": 85,
   "metadata": {},
   "outputs": [
    {
     "name": "stdout",
     "output_type": "stream",
     "text": [
      "262144\n"
     ]
    }
   ],
   "source": [
    "a = int(input('Enter a:'))\n",
    "b = int(input('Enter b:'))\n",
    "print(a ** b)"
   ]
  }
 ],
 "metadata": {
  "kernelspec": {
   "display_name": "base",
   "language": "python",
   "name": "python3"
  },
  "language_info": {
   "codemirror_mode": {
    "name": "ipython",
    "version": 3
   },
   "file_extension": ".py",
   "mimetype": "text/x-python",
   "name": "python",
   "nbconvert_exporter": "python",
   "pygments_lexer": "ipython3",
   "version": "3.11.5"
  },
  "orig_nbformat": 4
 },
 "nbformat": 4,
 "nbformat_minor": 2
}
