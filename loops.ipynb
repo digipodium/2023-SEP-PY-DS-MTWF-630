{
 "cells": [
  {
   "cell_type": "markdown",
   "metadata": {},
   "source": [
    "#### for\n",
    "- step based loop\n",
    "    - repeating a step n number of times\n",
    "    - tarversing iterables\n",
    "    - enumeration \n",
    "\n",
    "#### while\n",
    "condition based loop\n"
   ]
  },
  {
   "cell_type": "code",
   "execution_count": 1,
   "metadata": {},
   "outputs": [
    {
     "data": {
      "text/plain": [
       "range(1, 100)"
      ]
     },
     "execution_count": 1,
     "metadata": {},
     "output_type": "execute_result"
    }
   ],
   "source": [
    "range(1, 20)"
   ]
  },
  {
   "cell_type": "markdown",
   "metadata": {},
   "source": [
    "```\n",
    "for var in iterables:\n",
    "    statements\n",
    "```"
   ]
  },
  {
   "cell_type": "code",
   "execution_count": 4,
   "metadata": {},
   "outputs": [
    {
     "name": "stdout",
     "output_type": "stream",
     "text": [
      "0 1 2 3 4 5 6 7 8 9 "
     ]
    }
   ],
   "source": [
    "for item in range(10):\n",
    "    print(item, end=' ')"
   ]
  },
  {
   "cell_type": "code",
   "execution_count": 5,
   "metadata": {},
   "outputs": [
    {
     "name": "stdout",
     "output_type": "stream",
     "text": [
      "-10 -9 -8 -7 -6 -5 -4 -3 -2 -1 0 1 2 3 4 5 6 7 8 9 "
     ]
    }
   ],
   "source": [
    "for i in range(-10, 10):\n",
    "    print(i, end=' ')"
   ]
  },
  {
   "cell_type": "code",
   "execution_count": 7,
   "metadata": {},
   "outputs": [
    {
     "name": "stdout",
     "output_type": "stream",
     "text": [
      "-10 -8 -6 -4 -2 0 2 4 6 8 10 "
     ]
    }
   ],
   "source": [
    "for i in range(-10, 11, 2):\n",
    "    print(i, end=' ')"
   ]
  },
  {
   "cell_type": "code",
   "execution_count": 8,
   "metadata": {},
   "outputs": [
    {
     "name": "stdout",
     "output_type": "stream",
     "text": [
      "15 14 13 12 11 10 9 8 7 6 5 4 3 2 1 "
     ]
    }
   ],
   "source": [
    "# reverse\n",
    "for i in range(15, 0, -1):\n",
    "    print(i, end=' ')"
   ]
  },
  {
   "cell_type": "code",
   "execution_count": 10,
   "metadata": {},
   "outputs": [
    {
     "name": "stdout",
     "output_type": "stream",
     "text": [
      "hello\n",
      "hello\n",
      "hello\n",
      "hello\n",
      "hello\n"
     ]
    }
   ],
   "source": [
    "for _ in range(5):\n",
    "    print(\"hello\")"
   ]
  },
  {
   "cell_type": "code",
   "execution_count": 11,
   "metadata": {},
   "outputs": [],
   "source": [
    "# all variables below are iterable\n",
    "name = \"Albert Silvador\"\n",
    "words = ['Hi', \"Hello\", \"Aloha\", \"Hola\"] # list\n",
    "colors = ('red', 'green', 'blue') # tuple\n",
    "numbers = {1,2,5,6,7,23,12,21,25} # set"
   ]
  },
  {
   "cell_type": "code",
   "execution_count": 18,
   "metadata": {},
   "outputs": [
    {
     "name": "stdout",
     "output_type": "stream",
     "text": [
      "A l b e r t   S i l v a d o r \n",
      "Hi Hello Aloha Hola \n",
      "red green blue \n",
      "1 2 5 6 7 12 21 23 25 "
     ]
    }
   ],
   "source": [
    "for char in name:\n",
    "    print(char, end=' ')\n",
    "print()\n",
    "for word in words:\n",
    "    print(word, end=' ')\n",
    "print()\n",
    "for c in colors:\n",
    "    print(c, end=' ')\n",
    "print()\n",
    "for i in numbers:\n",
    "    print(i, end=' ')"
   ]
  },
  {
   "cell_type": "code",
   "execution_count": 22,
   "metadata": {},
   "outputs": [
    {
     "name": "stdout",
     "output_type": "stream",
     "text": [
      "0 Harsh\n",
      "1 Nishant\n",
      "2 Aman\n",
      "3 Kratagya\n",
      "4 Ayush\n",
      "5 Natasha\n",
      "6 Mahek\n",
      "7 Akash\n",
      "8 Krishna\n"
     ]
    }
   ],
   "source": [
    "names = ['Harsh','Nishant','Aman',\n",
    "         'Kratagya','Ayush','Natasha',\n",
    "         \"Mahek\",'Akash','Krishna']\n",
    "for idx, val in enumerate(names):\n",
    "    print(idx, val)"
   ]
  },
  {
   "cell_type": "code",
   "execution_count": 23,
   "metadata": {},
   "outputs": [
    {
     "name": "stdout",
     "output_type": "stream",
     "text": [
      "Harsh Srivastava\n",
      "Nishant Shukla\n",
      "Aman Raza\n",
      "Kratagya Jaiswal\n",
      "Ayush Singh\n",
      "Natasha Kanuajia\n",
      "Mahek Singhal\n",
      "Akash Gupta\n",
      "Krishna Agarwal\n"
     ]
    }
   ],
   "source": [
    "surnames = ['Srivastava','Shukla','Raza',\n",
    "            'Jaiswal','Singh', 'Kanuajia',\n",
    "            'Singhal','Gupta','Agarwal']\n",
    "\n",
    "for fname, lname in zip(names, surnames):\n",
    "    print(fname, lname)"
   ]
  },
  {
   "cell_type": "code",
   "execution_count": 30,
   "metadata": {},
   "outputs": [
    {
     "name": "stdout",
     "output_type": "stream",
     "text": [
      "1 2 3 4 6 6 7 "
     ]
    }
   ],
   "source": [
    "x = [1,2,3,0,4,5,0,6,0,6,7]\n",
    "for i in x:\n",
    "    if i == 0 or i == 5:\n",
    "        continue\n",
    "    print(i, end=' ')"
   ]
  },
  {
   "cell_type": "code",
   "execution_count": 33,
   "metadata": {},
   "outputs": [
    {
     "name": "stdout",
     "output_type": "stream",
     "text": [
      "1 2 3 "
     ]
    }
   ],
   "source": [
    "for i in x:\n",
    "    if i == 0:\n",
    "        break\n",
    "    print(i, end=' ')"
   ]
  },
  {
   "cell_type": "code",
   "execution_count": 34,
   "metadata": {},
   "outputs": [],
   "source": [
    "x = []\n",
    "for i in x:\n",
    "    print(i, end=' ')"
   ]
  },
  {
   "cell_type": "code",
   "execution_count": 39,
   "metadata": {},
   "outputs": [
    {
     "name": "stdout",
     "output_type": "stream",
     "text": [
      "Hello a\n",
      "Hello b\n",
      "Hello c\n",
      "Hello d\n"
     ]
    }
   ],
   "source": [
    "# for - else\n",
    "for i in range(5):\n",
    "    name = input(\"enter name of person:\")\n",
    "    if name:\n",
    "        print(f\"Hello {name}\")\n",
    "    else:\n",
    "        break\n",
    "else:\n",
    "    print(\"Well done 🥙\")"
   ]
  },
  {
   "cell_type": "code",
   "execution_count": 40,
   "metadata": {},
   "outputs": [
    {
     "name": "stdout",
     "output_type": "stream",
     "text": [
      "0\n",
      "10\n",
      "20\n",
      "30\n",
      "40\n",
      "50\n",
      "60\n",
      "70\n",
      "80\n",
      "90\n"
     ]
    }
   ],
   "source": [
    "n = 0\n",
    "while n < 100:\n",
    "    print(n)\n",
    "    n += 10"
   ]
  },
  {
   "cell_type": "code",
   "execution_count": 41,
   "metadata": {},
   "outputs": [
    {
     "name": "stdout",
     "output_type": "stream",
     "text": [
      "43903 ✅\n",
      "34902034 ✅\n",
      "459 ✅\n",
      "❌12❌\n"
     ]
    }
   ],
   "source": [
    "# infinite loop controlled by user\n",
    "while True:\n",
    "    num = int(input(\"enter a number greater than 100:\"))\n",
    "    if num > 100:\n",
    "        print(f'{num} ✅')\n",
    "    else:\n",
    "        print(f\"❌{num}❌\")\n",
    "        break"
   ]
  },
  {
   "cell_type": "code",
   "execution_count": 42,
   "metadata": {},
   "outputs": [
    {
     "name": "stdout",
     "output_type": "stream",
     "text": [
      "\n",
      "*\n",
      "**\n",
      "***\n",
      "****\n",
      "*****\n",
      "******\n",
      "*******\n",
      "********\n",
      "*********\n",
      "**********\n",
      "***********\n",
      "************\n"
     ]
    }
   ],
   "source": [
    "for i in range(13):\n",
    "    print(i * '*')"
   ]
  },
  {
   "cell_type": "code",
   "execution_count": null,
   "metadata": {},
   "outputs": [],
   "source": []
  }
 ],
 "metadata": {
  "kernelspec": {
   "display_name": "base",
   "language": "python",
   "name": "python3"
  },
  "language_info": {
   "codemirror_mode": {
    "name": "ipython",
    "version": 3
   },
   "file_extension": ".py",
   "mimetype": "text/x-python",
   "name": "python",
   "nbconvert_exporter": "python",
   "pygments_lexer": "ipython3",
   "version": "3.11.5"
  }
 },
 "nbformat": 4,
 "nbformat_minor": 2
}
