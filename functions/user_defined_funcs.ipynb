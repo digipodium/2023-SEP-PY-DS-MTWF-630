{
 "cells": [
  {
   "cell_type": "markdown",
   "metadata": {},
   "source": [
    "# User defined functions\n",
    "-> on the basics of signature functions can be divided into\n",
    "1. No argument no return type (game programming mostly)\n",
    "2. No argument with return type\n",
    "3. With argument no return type\n",
    "4. With argument with return type 😍\n",
    "5. Lambda function (anonymous function)"
   ]
  },
  {
   "cell_type": "markdown",
   "metadata": {},
   "source": [
    "*conventions for making a function*\n",
    "- function name should be in lower case\n",
    "- function should never take input from user\n",
    "- dont use print function to display result from func, prefer returning value\n",
    "- functions must be defined before calling\n",
    "- functions should be called after they have been defined to actually execute them"
   ]
  },
  {
   "cell_type": "markdown",
   "metadata": {},
   "source": [
    "syntax\n",
    "```python\n",
    "def func_name([params]):\n",
    "    '''\n",
    "    docstring\n",
    "    '''\n",
    "    # body of function\n",
    "    [return statement]\n",
    "```"
   ]
  },
  {
   "cell_type": "code",
   "execution_count": null,
   "metadata": {},
   "outputs": [],
   "source": [
    "def welcome():\n",
    "    '''a function that welcomes users'''\n",
    "    print(\"Welcome to Python functions!\")"
   ]
  },
  {
   "cell_type": "code",
   "execution_count": null,
   "metadata": {},
   "outputs": [],
   "source": [
    "welcome()"
   ]
  },
  {
   "cell_type": "code",
   "execution_count": null,
   "metadata": {},
   "outputs": [],
   "source": [
    "for i in range(3):\n",
    "    welcome()"
   ]
  },
  {
   "cell_type": "code",
   "execution_count": null,
   "metadata": {},
   "outputs": [],
   "source": [
    "# function returning value\n",
    "def get_random_chinese_letter():\n",
    "    import random\n",
    "    code = random.randint(0x4e00, 0x9fff) # hexadecimals\n",
    "    return chr(code)"
   ]
  },
  {
   "cell_type": "code",
   "execution_count": null,
   "metadata": {},
   "outputs": [],
   "source": [
    "for i in range(10):\n",
    "    print(get_random_chinese_letter(), end=\"\")"
   ]
  },
  {
   "cell_type": "code",
   "execution_count": null,
   "metadata": {},
   "outputs": [],
   "source": [
    "get_random_chinese_letter()+\"Ye string h\""
   ]
  },
  {
   "cell_type": "code",
   "execution_count": null,
   "metadata": {},
   "outputs": [],
   "source": [
    "get_random_chinese_letter()*5"
   ]
  },
  {
   "cell_type": "code",
   "execution_count": null,
   "metadata": {},
   "outputs": [],
   "source": [
    "def simple_interest(p, r, t):\n",
    "    return p*r*t/100"
   ]
  },
  {
   "cell_type": "code",
   "execution_count": null,
   "metadata": {},
   "outputs": [],
   "source": [
    "ans = simple_interest(120000, 2.11, 4)\n",
    "print(ans)"
   ]
  },
  {
   "cell_type": "code",
   "execution_count": null,
   "metadata": {},
   "outputs": [],
   "source": [
    "simple_interest(p=150000, r=1.56, t= 10)\n",
    "simple_interest(r=10, p=112256, t= 5)"
   ]
  },
  {
   "cell_type": "markdown",
   "metadata": {},
   "source": [
    "#### Parameterized functions\n",
    "functions that accept parameters are called parameterized functions, there are 4 types of parameterized functions\n",
    "- functions with `required` parameters\n",
    "- functions with `default` parameters\n",
    "- functions with `variable` parameters/arguments\n",
    "- functions with `variable keyword arguments`"
   ]
  },
  {
   "cell_type": "code",
   "execution_count": 89,
   "metadata": {},
   "outputs": [],
   "source": [
    "def adder(a, b, c, d):\n",
    "    ans = a + b + c + d\n",
    "    return ans"
   ]
  },
  {
   "cell_type": "code",
   "execution_count": null,
   "metadata": {},
   "outputs": [],
   "source": [
    "x =adder(10, 20, 2, 4) # all parameters are required\n",
    "print(x)"
   ]
  },
  {
   "cell_type": "code",
   "execution_count": null,
   "metadata": {},
   "outputs": [],
   "source": [
    "# c and d are optional parameters, since they have default values\n",
    "def adderv2(a, b, c=1, d=1):\n",
    "    return a + b + c + d"
   ]
  },
  {
   "cell_type": "code",
   "execution_count": null,
   "metadata": {},
   "outputs": [],
   "source": [
    "print(adderv2(10,10,20,30))\n",
    "print(adderv2(10,10,20))\n",
    "print(adderv2(10,10))\n",
    "print(adderv2(a=10, b=10, d=5))\n",
    "print(adderv2(10, 20, d=5))\n",
    "print(adderv2(10, 20, c=100, d=5))\n",
    "print(adderv2(10, 20, c=100))"
   ]
  },
  {
   "cell_type": "code",
   "execution_count": null,
   "metadata": {},
   "outputs": [],
   "source": [
    "def save_file(content, filename='output.txt', dont_change=False):\n",
    "    import os\n",
    "    if dont_change and os.path.exists(filename):\n",
    "        return \"file already exists\"\n",
    "    else:\n",
    "        with open(filename, 'w') as f:\n",
    "            f.write(content)\n",
    "        return \"file saved\""
   ]
  },
  {
   "cell_type": "code",
   "execution_count": null,
   "metadata": {},
   "outputs": [],
   "source": [
    "c='''ye \n",
    "raha\n",
    "content\n",
    "'''\n",
    "save_file(c)"
   ]
  },
  {
   "cell_type": "code",
   "execution_count": null,
   "metadata": {},
   "outputs": [],
   "source": [
    "c='''something else\n",
    "is here'''\n",
    "save_file(c)"
   ]
  },
  {
   "cell_type": "code",
   "execution_count": null,
   "metadata": {},
   "outputs": [],
   "source": [
    "c='''another\n",
    "content here'''\n",
    "save_file(c, dont_change=True)"
   ]
  },
  {
   "cell_type": "code",
   "execution_count": null,
   "metadata": {},
   "outputs": [],
   "source": [
    "save_file(c, \"output.csv\")\n",
    "save_file(c, \"output2.txt\")"
   ]
  },
  {
   "cell_type": "code",
   "execution_count": null,
   "metadata": {},
   "outputs": [],
   "source": [
    "data = '''\n",
    "biscuit 100\n",
    "chocolate 200\n",
    "milk 50\n",
    "clothes 500\n",
    "'''\n",
    "save_file(data, 'budget.txt')"
   ]
  },
  {
   "cell_type": "code",
   "execution_count": null,
   "metadata": {},
   "outputs": [],
   "source": [
    "data2 = '''\n",
    "biscuit 400\n",
    "chocolate 1200\n",
    "milk 500\n",
    "clothes 1500\n",
    "'''\n",
    "save_file(data, 'budget.txt', dont_change=True)\n"
   ]
  },
  {
   "cell_type": "code",
   "execution_count": null,
   "metadata": {},
   "outputs": [],
   "source": [
    "def calc(a,b, o='+'):\n",
    "    if o == '+':\n",
    "        return a+b\n",
    "    elif o == '-':\n",
    "        return a-b\n",
    "    elif o == '*':\n",
    "        return a*b\n",
    "    elif o == '/':\n",
    "        return a/b\n",
    "    else:\n",
    "        return \"invalid operator use(+ - * /)\""
   ]
  },
  {
   "cell_type": "code",
   "execution_count": null,
   "metadata": {},
   "outputs": [],
   "source": [
    "print(calc(10, 20))\n",
    "print(calc(10, 20, '*'))\n",
    "print(calc(10, 20, '/'))\n",
    "print(calc(10, 20, '-'))"
   ]
  },
  {
   "cell_type": "code",
   "execution_count": 101,
   "metadata": {},
   "outputs": [],
   "source": [
    "# variable arguments\n",
    "def adderv3(*numbers):\n",
    "    print(f\"func got {numbers}\")\n",
    "    return sum(numbers)"
   ]
  },
  {
   "cell_type": "code",
   "execution_count": 103,
   "metadata": {},
   "outputs": [
    {
     "name": "stdout",
     "output_type": "stream",
     "text": [
      "func got (1,)\n",
      "1\n",
      "func got (12,)\n",
      "12\n",
      "func got (1, 2, 3, 4)\n",
      "10\n",
      "func got (11, 2, 3, 3, 1, 12, 3, 123, 12, 3, 123, 12, 312, 312, 3)\n",
      "935\n"
     ]
    }
   ],
   "source": [
    "print(adderv3(1))\n",
    "print(adderv3(12))\n",
    "print(adderv3(1,2,3,4))\n",
    "print(adderv3(11,2,3,3,1,12,3,123,12,3,123,12,312,312,3))"
   ]
  },
  {
   "cell_type": "code",
   "execution_count": 93,
   "metadata": {},
   "outputs": [
    {
     "name": "stdout",
     "output_type": "stream",
     "text": [
      "1 2 3 4\n"
     ]
    }
   ],
   "source": [
    "print(1,2,3,4)"
   ]
  },
  {
   "cell_type": "code",
   "execution_count": 104,
   "metadata": {},
   "outputs": [],
   "source": [
    "# avg\n",
    "def avg(*data):\n",
    "    if len(data) > 0:\n",
    "        return sum(data)/len(data)\n",
    "    return 0"
   ]
  },
  {
   "cell_type": "code",
   "execution_count": 105,
   "metadata": {},
   "outputs": [
    {
     "data": {
      "text/plain": [
       "0"
      ]
     },
     "execution_count": 105,
     "metadata": {},
     "output_type": "execute_result"
    }
   ],
   "source": [
    "avg()"
   ]
  },
  {
   "cell_type": "code",
   "execution_count": 106,
   "metadata": {},
   "outputs": [
    {
     "data": {
      "text/plain": [
       "21.0"
      ]
     },
     "execution_count": 106,
     "metadata": {},
     "output_type": "execute_result"
    }
   ],
   "source": [
    "avg(12,45,6)"
   ]
  },
  {
   "cell_type": "code",
   "execution_count": 107,
   "metadata": {},
   "outputs": [
    {
     "data": {
      "text/plain": [
       "34.0"
      ]
     },
     "execution_count": 107,
     "metadata": {},
     "output_type": "execute_result"
    }
   ],
   "source": [
    "x= int(input(\"enter value\"))\n",
    "y= int(input(\"enter value\"))\n",
    "z= int(input(\"enter value\"))\n",
    "avg(x,y,z)"
   ]
  },
  {
   "cell_type": "code",
   "execution_count": 108,
   "metadata": {},
   "outputs": [],
   "source": [
    "def names(**details):\n",
    "    for k,v in details.items():\n",
    "        print(f\"{k} is {v}\")"
   ]
  },
  {
   "cell_type": "code",
   "execution_count": 112,
   "metadata": {},
   "outputs": [
    {
     "name": "stdout",
     "output_type": "stream",
     "text": [
      "rahul is 29\n",
      "ravi is 31\n"
     ]
    }
   ],
   "source": [
    "names(rahul=29, ravi=31)"
   ]
  },
  {
   "cell_type": "code",
   "execution_count": 110,
   "metadata": {},
   "outputs": [
    {
     "name": "stdout",
     "output_type": "stream",
     "text": [
      "rahul is 29\n"
     ]
    }
   ],
   "source": [
    "names(rahul=29)"
   ]
  },
  {
   "cell_type": "code",
   "execution_count": 111,
   "metadata": {},
   "outputs": [
    {
     "name": "stdout",
     "output_type": "stream",
     "text": [
      "ajay is 29\n",
      "rahul is 29\n",
      "raj is 30\n",
      "ravi is 31\n",
      "sonu is 32\n"
     ]
    }
   ],
   "source": [
    "names(ajay=29, rahul=29, raj=30, ravi=31, sonu=32)"
   ]
  },
  {
   "cell_type": "code",
   "execution_count": 113,
   "metadata": {},
   "outputs": [],
   "source": [
    "f = lambda x: x + 2*x\n",
    "g = lambda x, y: x ** y + 10"
   ]
  },
  {
   "cell_type": "code",
   "execution_count": 114,
   "metadata": {},
   "outputs": [
    {
     "name": "stdout",
     "output_type": "stream",
     "text": [
      "140\n"
     ]
    }
   ],
   "source": [
    "print(f(10) + g(10, 2))"
   ]
  },
  {
   "cell_type": "code",
   "execution_count": 115,
   "metadata": {},
   "outputs": [
    {
     "data": {
      "text/plain": [
       "<map at 0x1c42ec96e30>"
      ]
     },
     "execution_count": 115,
     "metadata": {},
     "output_type": "execute_result"
    }
   ],
   "source": [
    "map(lambda x: x**2, [51,2,3,13,4,5])"
   ]
  },
  {
   "cell_type": "code",
   "execution_count": null,
   "metadata": {},
   "outputs": [],
   "source": []
  }
 ],
 "metadata": {
  "kernelspec": {
   "display_name": "base",
   "language": "python",
   "name": "python3"
  },
  "language_info": {
   "codemirror_mode": {
    "name": "ipython",
    "version": 3
   },
   "file_extension": ".py",
   "mimetype": "text/x-python",
   "name": "python",
   "nbconvert_exporter": "python",
   "pygments_lexer": "ipython3",
   "version": "3.11.5"
  }
 },
 "nbformat": 4,
 "nbformat_minor": 2
}
