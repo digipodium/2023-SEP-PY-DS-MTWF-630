{
 "cells": [
  {
   "cell_type": "markdown",
   "metadata": {},
   "source": [
    "- builtin functions\n",
    "    - input()\n",
    "    - print()\n",
    "    - type()\n",
    "    - isinstance()\n",
    "    - len()\n",
    "    - min()\n",
    "    - max()\n",
    "    - sum()\n",
    "    - abs()\n",
    "    - round()\n",
    "    - eval()\n",
    "    - all()\n",
    "    - any()\n",
    "    - open()"
   ]
  },
  {
   "cell_type": "code",
   "execution_count": null,
   "metadata": {},
   "outputs": [],
   "source": [
    "x = 129.05\n",
    "isinstance(x, (int, float))"
   ]
  },
  {
   "cell_type": "code",
   "execution_count": null,
   "metadata": {},
   "outputs": [],
   "source": [
    "data = (1,2,3)\n",
    "isinstance(data, tuple)"
   ]
  },
  {
   "cell_type": "code",
   "execution_count": null,
   "metadata": {},
   "outputs": [],
   "source": [
    "abs(-10)"
   ]
  },
  {
   "cell_type": "code",
   "execution_count": null,
   "metadata": {},
   "outputs": [],
   "source": [
    "a = 1.123456\n",
    "print(a)\n",
    "print(round(a))\n",
    "print(round(a,2))\n",
    "print(round(a,5))"
   ]
  },
  {
   "cell_type": "code",
   "execution_count": null,
   "metadata": {},
   "outputs": [],
   "source": [
    "x = 10\n",
    "y = 3\n",
    "expression = input(\"enter your equation using x and y:\")\n",
    "print(\"Your equation is\", expression)\n",
    "print(eval(expression))"
   ]
  },
  {
   "cell_type": "code",
   "execution_count": null,
   "metadata": {},
   "outputs": [],
   "source": [
    "eval('x*y')"
   ]
  },
  {
   "cell_type": "code",
   "execution_count": null,
   "metadata": {},
   "outputs": [],
   "source": [
    "x = [1,2,3,4,5,6]\n",
    "y = [1,2,3,4,5,0]\n",
    "z = [0,0,0,0,0,0]\n",
    "a = [0,0,0,0,0,1]\n",
    "\n",
    "print(all(x))\n",
    "print(all(y))\n",
    "print(all(z))\n",
    "print(any(z))\n",
    "print(any(a))\n",
    "print(any(x))"
   ]
  },
  {
   "cell_type": "code",
   "execution_count": null,
   "metadata": {},
   "outputs": [],
   "source": [
    "print(bool(0), bool(''), bool('asd'), bool(-1), bool(120))"
   ]
  },
  {
   "cell_type": "markdown",
   "metadata": {},
   "source": [
    "file handling with open()\n",
    "- read\n",
    "- write\n",
    "- append"
   ]
  },
  {
   "cell_type": "code",
   "execution_count": null,
   "metadata": {},
   "outputs": [],
   "source": [
    "file = open('../dummy.txt')"
   ]
  },
  {
   "cell_type": "code",
   "execution_count": null,
   "metadata": {},
   "outputs": [],
   "source": [
    "file.read()"
   ]
  },
  {
   "cell_type": "code",
   "execution_count": null,
   "metadata": {},
   "outputs": [],
   "source": [
    "with open('../dummy.txt') as file:\n",
    "    print(file.read())"
   ]
  },
  {
   "cell_type": "code",
   "execution_count": null,
   "metadata": {},
   "outputs": [],
   "source": [
    "with open('builtin.ipynb') as file:\n",
    "    print(file.read())"
   ]
  },
  {
   "cell_type": "code",
   "execution_count": 61,
   "metadata": {},
   "outputs": [
    {
     "name": "stdout",
     "output_type": "stream",
     "text": [
      "['this', 'is', 'a', 'dummy', 'file']\n"
     ]
    }
   ],
   "source": [
    "with open('../dummy.txt') as file:\n",
    "    content = file.read()\n",
    "print(content.split())"
   ]
  },
  {
   "cell_type": "code",
   "execution_count": 64,
   "metadata": {},
   "outputs": [
    {
     "name": "stdout",
     "output_type": "stream",
     "text": [
      "alksdjalksdjkkld\n"
     ]
    }
   ],
   "source": [
    "path = 'C:\\\\Users\\\\ZAID\\\\Desktop\\\\kuchbhi.txt'\n",
    "with open(path) as f:\n",
    "    print(f.read())"
   ]
  },
  {
   "cell_type": "code",
   "execution_count": 65,
   "metadata": {},
   "outputs": [
    {
     "name": "stdout",
     "output_type": "stream",
     "text": [
      "alksdjalksdjkkld\n"
     ]
    }
   ],
   "source": [
    "path = 'C:/Users/ZAID/Desktop/kuchbhi.txt'\n",
    "with open(path) as f:\n",
    "    print(f.read())"
   ]
  },
  {
   "cell_type": "code",
   "execution_count": 66,
   "metadata": {},
   "outputs": [
    {
     "name": "stdout",
     "output_type": "stream",
     "text": [
      "alksdjalksdjkkld\n"
     ]
    }
   ],
   "source": [
    "path = r'C:\\Users\\ZAID\\Desktop\\kuchbhi.txt'\n",
    "with open(path) as f:\n",
    "    print(f.read())"
   ]
  },
  {
   "cell_type": "code",
   "execution_count": 69,
   "metadata": {},
   "outputs": [
    {
     "name": "stdout",
     "output_type": "stream",
     "text": [
      "632\n",
      "632\n",
      "827\n"
     ]
    }
   ],
   "source": [
    "x = [12,35,1,632,5,6,6,32,3,32,32,31]\n",
    "print(max(x))\n",
    "print(max(x))\n",
    "print(sum(x))"
   ]
  },
  {
   "cell_type": "code",
   "execution_count": 70,
   "metadata": {},
   "outputs": [],
   "source": [
    "meri_kahani = '''Once upon a time\n",
    "there was a person,\n",
    "to be continued...  \n",
    "'''\n",
    "with open('kahani.txt', 'w') as f:\n",
    "    f.write(meri_kahani)\n"
   ]
  },
  {
   "cell_type": "code",
   "execution_count": 73,
   "metadata": {},
   "outputs": [
    {
     "name": "stdout",
     "output_type": "stream",
     "text": [
      "file saved ✅\n"
     ]
    }
   ],
   "source": [
    "dusri_kahani = '''Ek samay ki baat hai,\n",
    "bahut dur desh me, ek pahad tha, jahan par pathar the aur ped bhi the.\n",
    "the end.\n",
    "'''\n",
    "addr = \"C:/users/zaid/Desktop/dusri_kahani.txt\"\n",
    "with open(addr, 'w') as f:\n",
    "    f.write(dusri_kahani)\n",
    "    print(\"file saved ✅\")"
   ]
  },
  {
   "cell_type": "code",
   "execution_count": 77,
   "metadata": {},
   "outputs": [
    {
     "name": "stdout",
     "output_type": "stream",
     "text": [
      "file updated ✅\n"
     ]
    }
   ],
   "source": [
    "user_ka_data = input(\"enter your story:\")\n",
    "with open(addr, 'a') as f:\n",
    "    f.write(\"\\n\" + user_ka_data)\n",
    "    print(\"file updated ✅\")"
   ]
  },
  {
   "cell_type": "code",
   "execution_count": 78,
   "metadata": {},
   "outputs": [
    {
     "name": "stdout",
     "output_type": "stream",
     "text": [
      "Ek samay ki baat hai,\n",
      "bahut dur desh me, ek pahad tha, jahan par pathar the aur ped bhi the.\n",
      "the end.\n",
      "\n",
      "1. append\n",
      "2. write\n",
      "3. read\n",
      "ye saare options h hamare pass\n"
     ]
    }
   ],
   "source": [
    "with open(addr) as f:\n",
    "    print(f.read())"
   ]
  },
  {
   "cell_type": "code",
   "execution_count": null,
   "metadata": {},
   "outputs": [],
   "source": []
  }
 ],
 "metadata": {
  "kernelspec": {
   "display_name": "base",
   "language": "python",
   "name": "python3"
  },
  "language_info": {
   "codemirror_mode": {
    "name": "ipython",
    "version": 3
   },
   "file_extension": ".py",
   "mimetype": "text/x-python",
   "name": "python",
   "nbconvert_exporter": "python",
   "pygments_lexer": "ipython3",
   "version": "3.11.5"
  }
 },
 "nbformat": 4,
 "nbformat_minor": 2
}
