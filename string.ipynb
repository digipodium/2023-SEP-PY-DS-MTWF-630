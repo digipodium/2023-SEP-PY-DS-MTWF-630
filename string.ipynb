{
 "cells": [
  {
   "cell_type": "markdown",
   "metadata": {},
   "source": [
    "- indexing\n",
    "- slicing\n",
    "- methods\n",
    "- operations"
   ]
  },
  {
   "cell_type": "code",
   "execution_count": null,
   "metadata": {},
   "outputs": [],
   "source": [
    "name = \"Shakespeare\""
   ]
  },
  {
   "cell_type": "code",
   "execution_count": null,
   "metadata": {},
   "outputs": [],
   "source": [
    "print(name[0])\n",
    "print(name[1])\n",
    "print(name[2], name[3], name[4])"
   ]
  },
  {
   "cell_type": "code",
   "execution_count": null,
   "metadata": {},
   "outputs": [],
   "source": [
    "print(name[10])\n",
    "print(name[-1], name[-2])"
   ]
  },
  {
   "cell_type": "code",
   "execution_count": null,
   "metadata": {},
   "outputs": [],
   "source": [
    "name = \"Vijay deenanath chauhan\"\n",
    "print(name[0]+name[1]+name[2]+name[3]+name[4])\n",
    "print(name[0:5])\n",
    "print(name[:5]) # start from 0\n",
    "print(name[6:15])\n",
    "print(name[6:]) # till end\n",
    "print(name[-7:]) # till end\n",
    "print(name[-3:]) \n",
    "print(name[6:-8]) \n",
    "print(name[6: 6+9]) # 9 letters for deenanath\n",
    "print(name[-9:5:-1]) # reverse step\n",
    "print(name[::-1]) # reverse\n",
    "print(name[::2]) # alternate even index\n",
    "print(name[1::2]) # alternate odd index"
   ]
  },
  {
   "cell_type": "markdown",
   "metadata": {},
   "source": [
    "name = \"William Shakespeare\"\n",
    "slice the following words from name variable\n",
    "- William\n",
    "- Shake\n",
    "- pear\n",
    "- spear\n",
    "- liam\n",
    "- are"
   ]
  },
  {
   "cell_type": "markdown",
   "metadata": {},
   "source": [
    "# methods in string\n",
    "    - formatting\n",
    "        - upper()\n",
    "        - lower()\n",
    "        - capitalize()\n",
    "        ...\n",
    "    - validation\n",
    "        - isupper()\n",
    "        - islower()\n",
    "        - endswith()\n",
    "        ...\n",
    "    - utility\n",
    "        - replace()\n",
    "        - find()\n",
    "        - count()\n",
    "        ..."
   ]
  },
  {
   "cell_type": "code",
   "execution_count": null,
   "metadata": {},
   "outputs": [],
   "source": [
    "name.upper()"
   ]
  },
  {
   "cell_type": "code",
   "execution_count": null,
   "metadata": {},
   "outputs": [],
   "source": [
    "nameU = name.upper()\n",
    "print(name)\n",
    "print(nameU)"
   ]
  },
  {
   "cell_type": "code",
   "execution_count": null,
   "metadata": {},
   "outputs": [],
   "source": [
    "name = \"Vijay Deenanath CHAUHAN\"\n",
    "print(name)\n",
    "print(name.lower())\n",
    "print(name.capitalize())\n",
    "print(name.title())\n",
    "print(name.swapcase())\n",
    "print(name.casefold()) # same as lower "
   ]
  },
  {
   "cell_type": "code",
   "execution_count": null,
   "metadata": {},
   "outputs": [],
   "source": [
    "x = 10\n",
    "y = 15.15\n",
    "z = x * y\n",
    "print(\"{} * {} = {}\".format(x,y,z))\n",
    "print(f\"{x} * {y} = {z}\")"
   ]
  },
  {
   "cell_type": "code",
   "execution_count": null,
   "metadata": {},
   "outputs": [],
   "source": [
    "a = input(\"enter some data:\")\n",
    "print(f\"You entered {a}\")\n",
    "print(f\"upper: {a.isupper()}\")\n",
    "print(f\"lower: {a.islower()}\")\n",
    "print(f'title: {a.istitle()}')\n",
    "print(f'alphabets: {a.isalpha()}')\n",
    "print(f'alphabets+number: {a.isalnum()}')\n",
    "print(f'numbers: {a.isnumeric()}')\n",
    "print(f'whitespaces: {a.isspace()}')\n",
    "print(f'ASCII :{a.isascii()}')\n"
   ]
  },
  {
   "cell_type": "code",
   "execution_count": null,
   "metadata": {},
   "outputs": [],
   "source": [
    "num = input(\"enter a number:\")\n",
    "if num.isnumeric():\n",
    "    num = int(num)\n",
    "    print(\"very good\")\n",
    "else:\n",
    "    print(\"enter number only\")"
   ]
  },
  {
   "cell_type": "code",
   "execution_count": null,
   "metadata": {},
   "outputs": [],
   "source": [
    "x = \"hello world\"\n",
    "print(x.startswith('he'))\n",
    "print(x.startswith('the'))\n",
    "print(x.startswith(' he'))\n",
    "print(x.startswith('He'))\n",
    "print(x.endswith('world'))\n",
    "print(x.endswith('World'))\n",
    "print(x.endswith('Wd'))"
   ]
  },
  {
   "cell_type": "code",
   "execution_count": null,
   "metadata": {},
   "outputs": [],
   "source": [
    "files = ['song.mp3', 'song2.mp3', 'thumb.png', 'song3.mp3', 'song3.ini']"
   ]
  },
  {
   "cell_type": "code",
   "execution_count": null,
   "metadata": {},
   "outputs": [],
   "source": [
    "# Write a program to reverse a given string using a while loop.\n",
    "ex = \"Samurai\"\n",
    "i = -1\n",
    "while i >= -len(ex):\n",
    "    print(ex[i], end='')\n",
    "    i -= 1"
   ]
  },
  {
   "cell_type": "code",
   "execution_count": 12,
   "metadata": {},
   "outputs": [
    {
     "name": "stdout",
     "output_type": "stream",
     "text": [
      "iarumaS"
     ]
    }
   ],
   "source": [
    "ex = \"Samurai\"\n",
    "i = len(ex) - 1\n",
    "while i >= 0:\n",
    "    print(ex[i], end='')\n",
    "    i -= 1"
   ]
  },
  {
   "cell_type": "code",
   "execution_count": 11,
   "metadata": {},
   "outputs": [
    {
     "name": "stdout",
     "output_type": "stream",
     "text": [
      "231\n"
     ]
    }
   ],
   "source": [
    "# Write a program to find the largest element in an array using a for loop\n",
    "x = [2,25,6,231,5,6,3,32,1,23]\n",
    "largest = x[0]\n",
    "for val in x:\n",
    "    if val >= largest:\n",
    "        largest = val # put the new val in largest\n",
    "print(largest)"
   ]
  },
  {
   "cell_type": "code",
   "execution_count": null,
   "metadata": {},
   "outputs": [],
   "source": []
  }
 ],
 "metadata": {
  "kernelspec": {
   "display_name": "base",
   "language": "python",
   "name": "python3"
  },
  "language_info": {
   "codemirror_mode": {
    "name": "ipython",
    "version": 3
   },
   "file_extension": ".py",
   "mimetype": "text/x-python",
   "name": "python",
   "nbconvert_exporter": "python",
   "pygments_lexer": "ipython3",
   "version": "3.11.5"
  }
 },
 "nbformat": 4,
 "nbformat_minor": 2
}
