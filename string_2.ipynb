{
 "cells": [
  {
   "cell_type": "markdown",
   "metadata": {},
   "source": [
    "string operations:\n",
    "- find\n",
    "- replace\n",
    "- split\n",
    "- join\n",
    "- strip\n",
    "- count\n",
    "- removeprefix\n",
    "- removesuffix"
   ]
  },
  {
   "cell_type": "code",
   "execution_count": null,
   "metadata": {},
   "outputs": [],
   "source": [
    "msg = \"a very normal message in a very normal world\""
   ]
  },
  {
   "cell_type": "code",
   "execution_count": null,
   "metadata": {},
   "outputs": [],
   "source": [
    "print(msg.find('message'))\n",
    "print(msg.find('normal'))\n",
    "print(msg.rfind('normal'))"
   ]
  },
  {
   "cell_type": "code",
   "execution_count": null,
   "metadata": {},
   "outputs": [],
   "source": [
    "print(msg.find('mor'))\n",
    "print(msg.find('normal', 8))"
   ]
  },
  {
   "cell_type": "code",
   "execution_count": null,
   "metadata": {},
   "outputs": [],
   "source": [
    "print(msg.find('me', 0, 15))"
   ]
  },
  {
   "cell_type": "code",
   "execution_count": null,
   "metadata": {},
   "outputs": [],
   "source": [
    "x = '''Check out the Microsoft Edge Insider channels Our three preview channels—Canary, Dev, and Beta—are available on all supported versions of Windows, Windows Server as well as macOS, mobile, and Linux. Installing a preview channel doesn’t uninstall the released version of Microsoft Edge, and you can install more than one at the same time.'''\n",
    "if 'chan' in x:\n",
    "    print(f\"present at {x.find('chan')}\")"
   ]
  },
  {
   "cell_type": "code",
   "execution_count": null,
   "metadata": {},
   "outputs": [],
   "source": [
    "print(msg.replace('normal', 'urgent'))\n",
    "print(msg.replace('a', 'apple'))\n",
    "print(msg.replace('normal', 'urgent', 1))"
   ]
  },
  {
   "cell_type": "code",
   "execution_count": null,
   "metadata": {},
   "outputs": [],
   "source": [
    "msg[:15]+msg[15:].replace('normal', 'urgent')"
   ]
  },
  {
   "cell_type": "code",
   "execution_count": null,
   "metadata": {},
   "outputs": [],
   "source": [
    "print(msg.replace('normal','urgent').replace('world', 'city').title())"
   ]
  },
  {
   "cell_type": "code",
   "execution_count": null,
   "metadata": {},
   "outputs": [],
   "source": [
    "msg.split()"
   ]
  },
  {
   "cell_type": "code",
   "execution_count": null,
   "metadata": {},
   "outputs": [],
   "source": [
    "print(list(msg)) #explicit type conversion"
   ]
  },
  {
   "cell_type": "code",
   "execution_count": null,
   "metadata": {},
   "outputs": [],
   "source": [
    "msg.split('in')"
   ]
  },
  {
   "cell_type": "code",
   "execution_count": null,
   "metadata": {},
   "outputs": [],
   "source": [
    "bmsg = '''This is an example \n",
    "string with some,\n",
    "content in each\n",
    "line of the message\n",
    "'''"
   ]
  },
  {
   "cell_type": "code",
   "execution_count": null,
   "metadata": {},
   "outputs": [],
   "source": [
    "print(bmsg.split())\n",
    "print(bmsg.splitlines())\n",
    "print(bmsg.split('\\n'))\n",
    "print(bmsg.split(','))\n",
    "print(bmsg.split(maxsplit=3))\n"
   ]
  },
  {
   "cell_type": "code",
   "execution_count": null,
   "metadata": {},
   "outputs": [],
   "source": [
    "path = [\"C:\",'users','lenovo','documents','secretfile.txt']"
   ]
  },
  {
   "cell_type": "code",
   "execution_count": null,
   "metadata": {},
   "outputs": [],
   "source": [
    "print(\"_\".join(path))\n",
    "print(\"/\".join(path))\n",
    "print(\"-\".join(path))\n",
    "gs = '/'\n",
    "gs.join(path)"
   ]
  },
  {
   "cell_type": "code",
   "execution_count": null,
   "metadata": {},
   "outputs": [],
   "source": [
    "\" \".join(msg.split()[::-1]) # reverse the sequence words in a string"
   ]
  },
  {
   "cell_type": "code",
   "execution_count": null,
   "metadata": {},
   "outputs": [],
   "source": [
    "print(msg)\n",
    "m = msg.split()\n",
    "mrev = m[::-1]\n",
    "rev_word = \" \".join(mrev)\n",
    "print(rev_word)\n"
   ]
  },
  {
   "cell_type": "code",
   "execution_count": null,
   "metadata": {},
   "outputs": [],
   "source": [
    "print(msg.count('a'))\n",
    "print(msg.count('very'))\n",
    "print(msg.count('hello'))\n",
    "print(msg.count('very nor'))"
   ]
  },
  {
   "cell_type": "code",
   "execution_count": null,
   "metadata": {},
   "outputs": [],
   "source": [
    "kachra = \"   hello world   \"\n",
    "cleaned_s = kachra.strip()\n",
    "print(len(kachra))\n",
    "print(len(cleaned_s))"
   ]
  },
  {
   "cell_type": "code",
   "execution_count": null,
   "metadata": {},
   "outputs": [],
   "source": [
    "a = '''\n",
    "\n",
    " my content here\n",
    "\n",
    "'''\n",
    "print(len(a))\n",
    "print(a.strip())\n",
    "print(len(a.strip()))"
   ]
  },
  {
   "cell_type": "code",
   "execution_count": 95,
   "metadata": {},
   "outputs": [
    {
     "name": "stdout",
     "output_type": "stream",
     "text": [
      "content!!!!!!\n",
      "!!!!!!!!!content\n",
      "content\n"
     ]
    }
   ],
   "source": [
    "word = '!!!!!!!!!content!!!!!!'\n",
    "print(word.lstrip('!'))\n",
    "print(word.rstrip('!'))\n",
    "print(word.strip('!'))"
   ]
  },
  {
   "cell_type": "code",
   "execution_count": 106,
   "metadata": {},
   "outputs": [
    {
     "data": {
      "text/plain": [
       "'Suess'"
      ]
     },
     "execution_count": 106,
     "metadata": {},
     "output_type": "execute_result"
    }
   ],
   "source": [
    "name = \"Dr.Suess\"\n",
    "name.removeprefix('Dr.')"
   ]
  },
  {
   "cell_type": "code",
   "execution_count": 2,
   "metadata": {},
   "outputs": [
    {
     "name": "stdout",
     "output_type": "stream",
     "text": [
      "python\n"
     ]
    }
   ],
   "source": [
    "text = '%p34@y!*-*!t68h#&on404'\n",
    "from string import punctuation, digits\n",
    "for i in punctuation+digits:\n",
    "    text = text.replace(i, '')\n",
    "print(text)\n",
    "    "
   ]
  },
  {
   "cell_type": "code",
   "execution_count": null,
   "metadata": {},
   "outputs": [],
   "source": []
  }
 ],
 "metadata": {
  "kernelspec": {
   "display_name": "base",
   "language": "python",
   "name": "python3"
  },
  "language_info": {
   "codemirror_mode": {
    "name": "ipython",
    "version": 3
   },
   "file_extension": ".py",
   "mimetype": "text/x-python",
   "name": "python",
   "nbconvert_exporter": "python",
   "pygments_lexer": "ipython3",
   "version": "3.11.5"
  }
 },
 "nbformat": 4,
 "nbformat_minor": 2
}
