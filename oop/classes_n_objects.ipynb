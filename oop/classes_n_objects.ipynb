{
 "cells": [
  {
   "cell_type": "code",
   "execution_count": null,
   "metadata": {},
   "outputs": [],
   "source": [
    "# class is the blueprint\n",
    "class Person:\n",
    "    # attributes\n",
    "    name: str\n",
    "    age: int\n",
    "    # method -> instance method with self keyword\n",
    "    def info(self):\n",
    "        print(f'Name:{self.name}\\nAge:{self.age}')"
   ]
  },
  {
   "cell_type": "code",
   "execution_count": null,
   "metadata": {},
   "outputs": [],
   "source": [
    "# object is the instance of the class\n",
    "p1 = Person() # object creation\n",
    "p1.name = \"John\"\n",
    "p1.age = 36\n",
    "p1.info()\n",
    "p2 = Person()\n",
    "p2.name = \"Mary\"\n",
    "p2.age = 30\n",
    "p2.info()"
   ]
  },
  {
   "cell_type": "code",
   "execution_count": null,
   "metadata": {},
   "outputs": [],
   "source": [
    "class Mobile:\n",
    "    def __init__(self, m, b, p, storage, ram, color):\n",
    "        # print('Constructor')\n",
    "        self.model = m\n",
    "        self.brand = b\n",
    "        self.price = p\n",
    "        self.storage = storage\n",
    "        self.ram = ram\n",
    "        self.color = color\n",
    "\n",
    "    def __str__(self) -> str:\n",
    "        return f\"{self.model}, {self.brand}, {self.price}, {self.storage}, {self.ram}, {self.color}\"\n",
    "\n",
    "m1 = Mobile('iPhone 12', 'Apple', 100000, 128, 6, 'Black')\n",
    "m2 = Mobile('Galaxy S21', 'Samsung', 80000, 256, 8, 'White')\n",
    "m3 = Mobile('OnePlus 9', 'OnePlus', 60000, 128, 8, 'Blue')\n",
    "m4 = Mobile('Mi 11', 'Xiaomi', 50000, 128, 8, 'Blue')\n",
    "print(m1)\n",
    "print(m2)\n",
    "print(m3)\n",
    "print(m4)"
   ]
  },
  {
   "cell_type": "code",
   "execution_count": 30,
   "metadata": {},
   "outputs": [],
   "source": [
    "# data class -> special class in python\n",
    "from dataclasses import dataclass\n",
    "@dataclass\n",
    "class Employee:\n",
    "    fname: str\n",
    "    lname: str\n",
    "    designation: str"
   ]
  },
  {
   "cell_type": "code",
   "execution_count": 32,
   "metadata": {},
   "outputs": [
    {
     "name": "stdout",
     "output_type": "stream",
     "text": [
      "Employee(fname='John', lname='Smith', designation='Manager')\n"
     ]
    }
   ],
   "source": [
    "e1 = Employee('John', 'Smith', 'Manager')\n",
    "e2 = Employee('Mary', 'Jane', 'Developer')\n",
    "e3 = Employee('Bob', 'Marley', 'Tester')\n",
    "print(e1)"
   ]
  },
  {
   "cell_type": "code",
   "execution_count": 33,
   "metadata": {},
   "outputs": [],
   "source": [
    "# parent class\n",
    "class Person:\n",
    "    def __init__(self, name, age):\n",
    "        self.name = name\n",
    "        self.age = age\n",
    "    \n",
    "# child class -> inherits from parent class\n",
    "class Student(Person):\n",
    "    def __init__(self, name, age, klass, college):\n",
    "        super().__init__(name, age)\n",
    "        self.klass = klass\n",
    "        self.college = college\n",
    "\n",
    "class Scholar(Student):\n",
    "    def __init__(self, name, age, klass, college, research, guide):\n",
    "        super().__init__(name, age, klass, college)\n",
    "        self.research = research\n",
    "        self.guide = guide\n",
    "    "
   ]
  },
  {
   "cell_type": "code",
   "execution_count": null,
   "metadata": {},
   "outputs": [],
   "source": [
    "p = Person('John', 36)\n",
    "s = Student('Mary', 30, 12, 'ABC College')\n",
    "sch = Scholar('Bob', 25, 10, 'XYZ College', 'AI', 'Dr. X')"
   ]
  }
 ],
 "metadata": {
  "kernelspec": {
   "display_name": "base",
   "language": "python",
   "name": "python3"
  },
  "language_info": {
   "codemirror_mode": {
    "name": "ipython",
    "version": 3
   },
   "file_extension": ".py",
   "mimetype": "text/x-python",
   "name": "python",
   "nbconvert_exporter": "python",
   "pygments_lexer": "ipython3",
   "version": "3.11.5"
  }
 },
 "nbformat": 4,
 "nbformat_minor": 2
}
