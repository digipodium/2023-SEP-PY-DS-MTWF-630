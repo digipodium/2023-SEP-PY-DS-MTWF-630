{
 "cells": [
  {
   "cell_type": "markdown",
   "metadata": {},
   "source": [
    "##### conditions\n",
    "- if condition\n",
    "- if - else condition\n",
    "- if - elif - else ladder\n",
    "- nested conditions\n",
    "- match case\n",
    "\n",
    "##### conditional operators and logical operators\n",
    "\n",
    "`>, <, >=, <=, ==, !=`\n",
    "\n",
    "`and or not`"
   ]
  },
  {
   "cell_type": "code",
   "execution_count": 3,
   "metadata": {},
   "outputs": [
    {
     "name": "stdout",
     "output_type": "stream",
     "text": [
      "yes\n",
      "hello\n",
      "end\n"
     ]
    }
   ],
   "source": [
    "x = 10\n",
    "if x > 5:\n",
    "    print('yes')\n",
    "    print('hello')\n",
    "print('end')"
   ]
  },
  {
   "cell_type": "code",
   "execution_count": 4,
   "metadata": {},
   "outputs": [
    {
     "name": "stdout",
     "output_type": "stream",
     "text": [
      "SIMPLE INTEREST: 1440.0\n"
     ]
    }
   ],
   "source": [
    "p = int(input(\"Enter Principal Amount: \"))\n",
    "r = int(input('Enter rate of interest: '))\n",
    "t = int(input('Enter time: '))\n",
    "si = p * r * t / 100\n",
    "print(f'SIMPLE INTEREST: {si}')"
   ]
  },
  {
   "cell_type": "code",
   "execution_count": 6,
   "metadata": {},
   "outputs": [
    {
     "name": "stdout",
     "output_type": "stream",
     "text": [
      "SIMPLE INTEREST: 2800.0\n"
     ]
    }
   ],
   "source": [
    "p = int(input(\"Enter Principal Amount: \"))\n",
    "t = int(input('Enter time: '))\n",
    "if p >= 15000:\n",
    "    r = 3\n",
    "else: \n",
    "    r = 4\n",
    "si = p * r * t / 100\n",
    "print(f'SIMPLE INTEREST: {si}')"
   ]
  },
  {
   "cell_type": "code",
   "execution_count": 10,
   "metadata": {},
   "outputs": [
    {
     "name": "stdout",
     "output_type": "stream",
     "text": [
      "X is greater than 20\n",
      "X is greater than -20\n"
     ]
    }
   ],
   "source": [
    "x = 100\n",
    "# multiple if (unrelated conditions)\n",
    "if x > 20:\n",
    "    print (\"X is greater than 20\")\n",
    "if x > -20:\n",
    "    print(\"X is greater than -20\")\n",
    "if x < 0:\n",
    "    print(\"X is less than 0\")"
   ]
  },
  {
   "cell_type": "code",
   "execution_count": 12,
   "metadata": {},
   "outputs": [
    {
     "name": "stdout",
     "output_type": "stream",
     "text": [
      "a + b is greater than 5\n"
     ]
    }
   ],
   "source": [
    "# if elif (related conditions) (conditional ladder)\n",
    "a, b = 2, 5\n",
    "if a + b > 10:\n",
    "    print(\"a + b is greater than 10\")\n",
    "elif a + b > 5:\n",
    "    print(\"a + b is greater than 5\")\n",
    "elif a + b > 0:\n",
    "    print(\"a + b is greater than 0\")\n",
    "elif a > 10:\n",
    "    print(\"a is greater than 10\")"
   ]
  },
  {
   "cell_type": "markdown",
   "metadata": {},
   "source": [
    "wap to calc total salary of employee based on following conditions\n",
    "- BS is gt 25000, hra = 30% of BS, da = 95% of BS\n",
    "- BS is gt 20000, hra = 25% of BS, da = 90% of BS\n",
    "- BS is gt 15000, hra = 20% of BS, da = 85% of BS"
   ]
  },
  {
   "cell_type": "code",
   "execution_count": 19,
   "metadata": {},
   "outputs": [
    {
     "name": "stdout",
     "output_type": "stream",
     "text": [
      "Total salary: 53750.0\n"
     ]
    }
   ],
   "source": [
    "bs = int(input(\"Enter Basic Salary: \"))\n",
    "if bs > 25000:\n",
    "    hra = bs * .3\n",
    "    da = bs * .95\n",
    "elif bs > 20000:\n",
    "    hra = bs * .25\n",
    "    da = bs * .9\n",
    "elif bs > 15000:\n",
    "    hra = bs * .20\n",
    "    da = bs * .85\n",
    "else:\n",
    "    hra, da = 0, 0\n",
    "total = bs + hra + da\n",
    "print(f\"Total salary: {total}\")"
   ]
  },
  {
   "cell_type": "code",
   "execution_count": 21,
   "metadata": {},
   "outputs": [
    {
     "name": "stdout",
     "output_type": "stream",
     "text": [
      "Welcome mr. ajay\n"
     ]
    }
   ],
   "source": [
    "name = input(\"enter your name:\")\n",
    "match (name):\n",
    "    case \"ajay\":\n",
    "        print(\"Welcome mr. ajay\")\n",
    "    case \"vijay\" | \"anuj\":\n",
    "        print(\"you are the caterers\")\n",
    "    case \"rahul\":\n",
    "        print(\"You are the manager\")\n",
    "    case \"ashish\":\n",
    "        print(\"You are not allowed\")\n",
    "    case _:\n",
    "        print(\"I don't know you\")"
   ]
  },
  {
   "cell_type": "markdown",
   "metadata": {},
   "source": [
    "```\n",
    "if condition:\n",
    "    if condition:\n",
    "        if condition:\n",
    "```"
   ]
  },
  {
   "cell_type": "code",
   "execution_count": 26,
   "metadata": {},
   "outputs": [
    {
     "name": "stdout",
     "output_type": "stream",
     "text": [
      "Welcome Zaid\n"
     ]
    }
   ],
   "source": [
    "username = input(\"enter your username:\")\n",
    "password = input(\"enter your password:\")\n",
    "\n",
    "if len(username) > 0:\n",
    "    if len(password) > 0:\n",
    "        if username == 'zaid':\n",
    "            if password == 'admin':\n",
    "                print(\"Welcome Zaid\")\n",
    "            else:\n",
    "                print(\"Invalid Password\")\n",
    "        else:\n",
    "            print(\"Invalid Username\")\n",
    "    else:\n",
    "        print(\"Password is required\")\n",
    "else:\n",
    "    print(\"Username is required\")\n",
    "    "
   ]
  },
  {
   "cell_type": "markdown",
   "metadata": {},
   "source": [
    "ternary conditional operator\n",
    "\n",
    "`<expr1> if <condition> else <expr2>`"
   ]
  },
  {
   "cell_type": "code",
   "execution_count": 29,
   "metadata": {},
   "outputs": [
    {
     "name": "stdout",
     "output_type": "stream",
     "text": [
      "name too big\n"
     ]
    }
   ],
   "source": [
    "name = input(\"enter your name:\")\n",
    "print(\"name too big\" if len(name) > 10 else \"name ok\")"
   ]
  },
  {
   "cell_type": "code",
   "execution_count": null,
   "metadata": {},
   "outputs": [],
   "source": [
    "if len(name) > 10:\n",
    "    print(\"name too big\")\n",
    "else:\n",
    "    print(\"name ok\")"
   ]
  },
  {
   "cell_type": "code",
   "execution_count": null,
   "metadata": {},
   "outputs": [],
   "source": [
    "x = 100\n",
    "\"even\" if x % 2 == 0 else \"odd\""
   ]
  }
 ],
 "metadata": {
  "kernelspec": {
   "display_name": "base",
   "language": "python",
   "name": "python3"
  },
  "language_info": {
   "codemirror_mode": {
    "name": "ipython",
    "version": 3
   },
   "file_extension": ".py",
   "mimetype": "text/x-python",
   "name": "python",
   "nbconvert_exporter": "python",
   "pygments_lexer": "ipython3",
   "version": "3.11.5"
  },
  "orig_nbformat": 4
 },
 "nbformat": 4,
 "nbformat_minor": 2
}
